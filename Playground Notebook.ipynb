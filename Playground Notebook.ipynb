{
 "cells": [
  {
   "cell_type": "code",
   "execution_count": 4,
   "id": "6d2ec97b",
   "metadata": {},
   "outputs": [],
   "source": [
    "# Variables and imports\n",
    "import os\n",
    "import requests\n",
    "from itsdangerous import base64_encode\n",
    "from dotenv import load_dotenv\n",
    "from bs4 import BeautifulSoup\n",
    "\n",
    "load_dotenv()\n",
    "\n",
    "# From Spotify developer dashboard\n",
    "spotify_client_id = os.getenv(\"SPOTIFY_CLIENT_ID\")\n",
    "spotify_client_secret = os.getenv(\"SPOTIFY_CLIENT_SECRET\")\n",
    "\n",
    "# Generated using local_server\n",
    "refresh_token = os.getenv(\"SPOTIFY_REFRESH_TOKEN\")"
   ]
  },
  {
   "cell_type": "code",
   "execution_count": 6,
   "id": "744f10bb",
   "metadata": {},
   "outputs": [],
   "source": [
    "# Spotify authentication\n",
    "def generate_access_token_from_refresh(ref_token):\n",
    "    # Utility function to refresh the token\n",
    "    headers = {\n",
    "        \"Authorization\": \"Basic \" + base64_encode(f\"{spotify_client_id}:{spotify_client_secret}\").decode(),\n",
    "        \"Content-Type\": \"application/x-www-form-urlencoded\"\n",
    "    }\n",
    "    r = requests.post(\n",
    "        \"https://accounts.spotify.com/api/token\", data={\n",
    "            \"grant_type\": \"refresh_token\",\n",
    "            \"refresh_token\": ref_token,\n",
    "        }, headers=headers)\n",
    "    return r.json()[\"access_token\"]\n",
    "\n",
    "def get_spotify_data(url):\n",
    "    return requests.get(url, headers={\"Authorization\": \"Bearer \" + access_token})\n",
    "\n",
    "\n",
    "access_token = generate_access_token_from_refresh(refresh_token)"
   ]
  },
  {
   "cell_type": "code",
   "execution_count": 22,
   "id": "c3fcc359",
   "metadata": {},
   "outputs": [
    {
     "name": "stdout",
     "output_type": "stream",
     "text": [
      "ID: 2Y8UmzdFDZ0GcFDX6pCsQv \t Rediscover - Mar 31st\n",
      "ID: 2MknKWa2dMmVLz4fY1cymQ \t Rediscover - Mar 25th\n",
      "ID: 7nihSdgrqRK0cwwuidvlOf \t Joseph Smith’s Secret Hymns\n",
      "ID: 27B4P9xwJlmLtUSb6MgvsX \t Rediscover - Mar 19th\n",
      "ID: 1mlcQnCMGoB7YuC0N3yvI8 \t Rediscover - Mar 6th\n",
      "ID: 15Rd1z8pbk2LF0VjFDTdsi \t Rediscover - Feb 17th\n",
      "ID: 3WSeteAA0wpziNg4tyWcYy \t Rediscover - Feb 11th\n",
      "ID: 6TaUOfDa9cdeY5DlmVfqUz \t Rediscover - Feb 5th\n",
      "ID: 7INyDT9gVnpVibIJiwXou4 \t Rediscover - Jan 6th\n",
      "ID: 0PbHxgb8ciEcY8wLDunuqV \t Rediscover - Jan 21st\n"
     ]
    }
   ],
   "source": [
    "# Get Spotify playlists\n",
    "r = get_spotify_data(\"https://api.spotify.com/v1/me/playlists?limit=10\")\n",
    "for playlist in r.json()[\"items\"]:\n",
    "    print(f\"ID: {playlist['id']} \\t {playlist['name']}\")\n"
   ]
  },
  {
   "cell_type": "code",
   "execution_count": 7,
   "id": "54b3a87f",
   "metadata": {},
   "outputs": [],
   "source": [
    "# Choose Spotify playlist\n",
    "spotify_playlist_id = \"7nihSdgrqRK0cwwuidvlOf\""
   ]
  },
  {
   "cell_type": "code",
   "execution_count": 8,
   "id": "be2baaed",
   "metadata": {},
   "outputs": [],
   "source": [
    "# Grab song data, save it\n",
    "raw_song_data = get_spotify_data(\"https://api.spotify.com/v1/playlists/\" + spotify_playlist_id)\n",
    "songs = raw_song_data.json()[\"tracks\"][\"items\"]\n"
   ]
  },
  {
   "cell_type": "code",
   "execution_count": 10,
   "id": "aa1051ee",
   "metadata": {},
   "outputs": [],
   "source": [
    "# Scrape lyric data from genius\n",
    "# Source: https://medium.com/swlh/how-to-leverage-spotify-api-genius-lyrics-for-data-science-tasks-in-python-c36cdfb55cf3\n",
    "def scrape_lyrics(artistname, songname):\n",
    "    artistname2 = str(artistname.replace(' ','-'))\n",
    "    songname2 = str(songname.replace(' ','-'))\n",
    "    page = requests.get('https://genius.com/'+ artistname2 + '-' + songname2 + '-' + 'lyrics')\n",
    "    html = BeautifulSoup(page.text, 'html.parser')\n",
    "    lyrics = html.find(\"div\", attrs={'data-lyrics-container' : True})\n",
    "    if lyrics:\n",
    "        return lyrics.get_text()\n",
    "    return None\n",
    "\n",
    "parsed_songs = []\n",
    "for song in songs:\n",
    "    # Greedy, but seems to work\n",
    "    artist = song[\"track\"][\"artists\"][0][\"name\"]\n",
    "    song_name = song[\"track\"][\"name\"]\n",
    "    lyrics = scrape_lyrics(artist, song_name)\n",
    "    parsed_songs.append({\n",
    "        \"artist\": artist,\n",
    "        \"song_name\": song_name,\n",
    "        \"lyrics\": lyrics\n",
    "    })\n"
   ]
  },
  {
   "cell_type": "code",
   "execution_count": null,
   "id": "673bbb1f",
   "metadata": {},
   "outputs": [],
   "source": [
    "# Convert songs to processable entity by openai"
   ]
  },
  {
   "cell_type": "code",
   "execution_count": null,
   "id": "01ab8093",
   "metadata": {},
   "outputs": [],
   "source": [
    "# Save as JSONL document"
   ]
  },
  {
   "cell_type": "code",
   "execution_count": null,
   "id": "9ec84ccf",
   "metadata": {},
   "outputs": [],
   "source": [
    "# Commands to run in command line to train the model"
   ]
  },
  {
   "cell_type": "code",
   "execution_count": null,
   "id": "193ac174",
   "metadata": {},
   "outputs": [],
   "source": [
    "# Run query against OpenAI fine-tuned"
   ]
  }
 ],
 "metadata": {
  "kernelspec": {
   "display_name": "Python 3 (ipykernel)",
   "language": "python",
   "name": "python3"
  },
  "language_info": {
   "codemirror_mode": {
    "name": "ipython",
    "version": 3
   },
   "file_extension": ".py",
   "mimetype": "text/x-python",
   "name": "python",
   "nbconvert_exporter": "python",
   "pygments_lexer": "ipython3",
   "version": "3.8.2"
  }
 },
 "nbformat": 4,
 "nbformat_minor": 5
}
